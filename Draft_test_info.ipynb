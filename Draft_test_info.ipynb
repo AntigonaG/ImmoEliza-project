{
 "cells": [
  {
   "cell_type": "code",
   "execution_count": null,
   "metadata": {},
   "outputs": [],
   "source": [
    "# import of the packages\n",
    "import requests\n",
    "import cloudscraper\n",
    "from bs4 import BeautifulSoup\n",
    "import json\n",
    "import re\n",
    "from pprint import pprint"
   ]
  },
  {
   "cell_type": "code",
   "execution_count": null,
   "metadata": {},
   "outputs": [],
   "source": [
    "# Initialize the scraper\n",
    "scraper = cloudscraper.create_scraper()\n",
    "\n",
    "# Root URL of Immoweb website to use and URL suffix\n",
    "url = \"https://www.immoweb.be/en/classified/house/for-sale/nassogne/6950/11485698\"\n",
    "\n",
    "html = scraper.get(f\"{url}\")\n",
    "status = html.status_code\n",
    "print(url, status)\n",
    "\n",
    "soup = BeautifulSoup(html.text, 'html.parser')\n",
    "\n",
    "print(soup.prettify())"
   ]
  },
  {
   "cell_type": "code",
   "execution_count": null,
   "metadata": {},
   "outputs": [],
   "source": [
    "# Trouver le script JavaScript contenant av_items\n",
    "script_tag = soup.find('script', string=re.compile(r'av_items'))\n",
    "\n",
    "if script_tag:\n",
    "    # Extraire le contenu du script comme une chaîne\n",
    "    script_content = script_tag.text\n",
    "    # Trouver la position de la clé \"city\" dans le script\n",
    "    city_key_pos = script_content.find('\"city\"')\n",
    "\n",
    "    if city_key_pos != -1:\n",
    "        # Trouver la position du premier double guillemet après la clé \"city\"\n",
    "        city_start_pos = script_content.find('\"', city_key_pos + len('\"city\"') + 1)\n",
    "        city_end_pos = script_content.find('\"', city_start_pos + 1)\n",
    "\n",
    "        # Extraire la ville\n",
    "        city_value = script_content[city_start_pos + 1 : city_end_pos]\n",
    "        print(f\"City: {city_value}\")\n",
    "    else:\n",
    "        print(\"City not found in script.\")\n",
    "else:\n",
    "    print(\"Script tag containing av_items not found in the page.\")"
   ]
  },
  {
   "cell_type": "code",
   "execution_count": null,
   "metadata": {},
   "outputs": [],
   "source": [
    "# Trouver le script JavaScript contenant av_items\n",
    "script_tag = soup.find('script', string=re.compile(r'av_items'))\n",
    "\n",
    "if script_tag:\n",
    "    # Extraire le contenu du script comme une chaîne\n",
    "    script_content = script_tag.text\n",
    "    # Trouver la position de la clé \"city\" dans le script\n",
    "    city_key_pos = script_content.find('\"price\"')\n",
    "\n",
    "    if city_key_pos != -1:\n",
    "        # Trouver la position du premier double guillemet après la clé \"city\"\n",
    "        city_start_pos = script_content.find('\"', city_key_pos + len('\"price\"') + 1)\n",
    "        city_end_pos = script_content.find('\"', city_start_pos + 1)\n",
    "\n",
    "        # Extraire la ville\n",
    "        city_value = script_content[city_start_pos + 1 : city_end_pos]\n",
    "        print(f\"price: {city_value}\")\n",
    "    else:\n",
    "        print(\"price not found in script.\")\n",
    "else:\n",
    "    print(\"Script tag containing av_items not found in the page.\")"
   ]
  },
  {
   "cell_type": "code",
   "execution_count": null,
   "metadata": {},
   "outputs": [],
   "source": [
    "data = soup.find('script', string=re.compile(r'av_items'))\n",
    "\n",
    "print(data)"
   ]
  }
 ],
 "metadata": {
  "kernelspec": {
   "display_name": "immo_env",
   "language": "python",
   "name": "python3"
  },
  "language_info": {
   "codemirror_mode": {
    "name": "ipython",
    "version": 3
   },
   "file_extension": ".py",
   "mimetype": "text/x-python",
   "name": "python",
   "nbconvert_exporter": "python",
   "pygments_lexer": "ipython3",
   "version": "3.12.4"
  }
 },
 "nbformat": 4,
 "nbformat_minor": 2
}
